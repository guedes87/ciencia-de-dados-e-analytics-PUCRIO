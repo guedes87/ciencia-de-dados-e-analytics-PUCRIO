{
  "nbformat": 4,
  "nbformat_minor": 0,
  "metadata": {
    "colab": {
      "provenance": [],
      "toc_visible": true,
      "authorship_tag": "ABX9TyNE+r4TxTLXrffuGUT93U0+",
      "include_colab_link": true
    },
    "kernelspec": {
      "name": "python3",
      "display_name": "Python 3"
    },
    "language_info": {
      "name": "python"
    }
  },
  "cells": [
    {
      "cell_type": "markdown",
      "metadata": {
        "id": "view-in-github",
        "colab_type": "text"
      },
      "source": [
        "<a href=\"https://colab.research.google.com/github/guedes87/ciencia-de-dados-e-analytics-PUCRIO/blob/main/MPV_analise_de_dados.ipynb\" target=\"_parent\"><img src=\"https://colab.research.google.com/assets/colab-badge.svg\" alt=\"Open In Colab\"/></a>"
      ]
    },
    {
      "cell_type": "markdown",
      "source": [
        "MPV Análide de Dados"
      ],
      "metadata": {
        "id": "7QmytG54nxHB"
      }
    },
    {
      "cell_type": "markdown",
      "source": [
        "# MPV Análide de Dados"
      ],
      "metadata": {
        "id": "YYiwyHxhoBNM"
      }
    },
    {
      "cell_type": "code",
      "execution_count": 1,
      "metadata": {
        "id": "Ia3ESZAPsneu"
      },
      "outputs": [],
      "source": [
        "# Configuração para não exibir os warnings\n",
        "import warnings\n",
        "warnings.filterwarnings(\"ignore\")\n",
        "\n",
        "# Importação de pacotes\n",
        "import pandas as pd\n",
        "import numpy as np\n",
        "import missingno as ms # para tratamento de missings\n",
        "## Transformações Numéricas\n",
        "from sklearn.preprocessing import MinMaxScaler # para normalização\n",
        "from sklearn.preprocessing import StandardScaler # para padronização\n",
        "## Transformações Categóricas\n",
        "from sklearn.preprocessing import OneHotEncoder\n",
        "from sklearn.preprocessing import OrdinalEncoder"
      ]
    },
    {
      "cell_type": "markdown",
      "source": [
        "# Dataset"
      ],
      "metadata": {
        "id": "vGHMF3-roPW2"
      }
    },
    {
      "cell_type": "code",
      "source": [
        "# importando dados uma url para um dataframe\n",
        "\n",
        "# url a importar\n",
        "url_dados = 'https://www.kaggle.com/datasets/open-powerlifting/powerlifting-database?select=openpowerlifting-2024-01-06-4c732975.csv'"
      ],
      "metadata": {
        "id": "G3wIJJXWoWlX"
      },
      "execution_count": 2,
      "outputs": []
    }
  ]
}